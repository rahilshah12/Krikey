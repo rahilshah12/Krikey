{
 "cells": [
  {
   "cell_type": "markdown",
   "id": "92321076",
   "metadata": {},
   "source": [
    "## Krikey Coding Challenge\n",
    "Rahil Shah "
   ]
  },
  {
   "cell_type": "markdown",
   "id": "3319b44b",
   "metadata": {},
   "source": [
    "Questions: \n",
    "- What attributes have the most variability\n",
    "- Which classes of users are the most commmon\n",
    "- What feeds is the most active"
   ]
  },
  {
   "cell_type": "code",
   "execution_count": 1,
   "id": "c1a6a358",
   "metadata": {},
   "outputs": [],
   "source": [
    "import numpy as np\n",
    "import pandas as pd\n",
    "import scipy.stats as st\n",
    "pd.set_option('display.max_columns', None)\n",
    "\n",
    "import math\n",
    "\n",
    "import matplotlib.pyplot as plt\n",
    "%matplotlib inline\n",
    "\n",
    "import seaborn as sns\n",
    "sns.set_style('whitegrid')\n",
    "\n",
    "\n",
    "from sklearn.preprocessing import StandardScaler\n",
    "from scipy import stats\n"
   ]
  },
  {
   "cell_type": "code",
   "execution_count": null,
   "id": "609f8661",
   "metadata": {},
   "outputs": [],
   "source": []
  },
  {
   "cell_type": "code",
   "execution_count": 2,
   "id": "35df9203",
   "metadata": {},
   "outputs": [
    {
     "name": "stdout",
     "output_type": "stream",
     "text": [
      "   Unnamed: 0           created_at        class                coordinates  \\\n",
      "0           0  2021-03-23 00:24:53      Creator    ('36.76775', '2.95924')   \n",
      "1           1  2021-04-09 19:55:07       Viewer   ('43.71032', '-1.05366')   \n",
      "2           2  2021-04-08 21:48:45  Super Gamer       ('51.26', '-2.1875')   \n",
      "3           3  2021-05-15 00:45:51      Creator  ('40.65538', '-74.38987')   \n",
      "4           4  2021-07-05 04:08:53       Viewer  ('35.61452', '-88.81395')   \n",
      "\n",
      "                                 userId  \n",
      "0  37e369a8-4477-4d5d-acd7-4e3b8059586e  \n",
      "1  27cf0bb6-3488-4662-916d-3ad04eeec9ca  \n",
      "2  5ebd5e12-ba2a-4bf9-b7e4-92ad24711cd4  \n",
      "3  30986592-0cbf-43bb-83ed-7501ab3bd373  \n",
      "4  25b49125-34d1-4694-a4a9-8415bcc3567b  \n",
      "Gamer            213\n",
      "Super Gamer      209\n",
      "Super Creator    206\n",
      "Creator          186\n",
      "Viewer           186\n",
      "Name: class, dtype: int64\n",
      "2     273\n",
      "12    267\n",
      "14    260\n",
      "5     257\n",
      "4     254\n",
      "6     254\n",
      "15    244\n",
      "8     244\n",
      "17    241\n",
      "7     236\n",
      "3     236\n",
      "1     233\n",
      "9     232\n",
      "18    232\n",
      "13    230\n",
      "11    223\n",
      "10    223\n",
      "0     219\n",
      "20    219\n",
      "19    214\n",
      "16    209\n",
      "Name: num_shares, dtype: int64\n",
      "True     2528\n",
      "False    2472\n",
      "Name: is_ar, dtype: int64\n"
     ]
    }
   ],
   "source": [
    "feeds = pd.read_csv(\"feeds.csv\", sep = \",\")\n",
    "users = pd.read_csv(\"users.csv\", sep = \",\")\n",
    "videos = pd.read_csv(\"videos.csv\", sep = \",\")\n",
    "watchedVideo = pd.read_csv(\"watchedVideo.csv\", sep = \",\")\n",
    "\n",
    "#data cleaning\n",
    "users['userId'] = users['id']\n",
    "users.drop(columns=['id'],inplace=True)\n",
    "\n",
    "videos['videoId'] = videos['id']\n",
    "videos.drop(columns=['id'],inplace=True)\n",
    "\n",
    "feeds['feedId'] = feeds['id']\n",
    "feeds.drop(columns=['id'],inplace=True)\n",
    "\n",
    "print(users.head())\n",
    "\n",
    "print(users['class'].value_counts())\n",
    "\n",
    "print(videos['num_shares'].value_counts())\n",
    "\n",
    "print(videos['is_ar'].value_counts())\n",
    "\n",
    "#print(feeds.head())\n",
    "#print(users.head())\n",
    "#print(videos.head())\n",
    "#print(watchedVideo.head())\n",
    "\n",
    "\n",
    "#print(watchedVideo.head())\n",
    "# 5 different classes of users\n",
    "# 10 feeds\n",
    "# 5000 videos, 992 creators, max 20 shares\n",
    "# 2 os "
   ]
  },
  {
   "cell_type": "code",
   "execution_count": 3,
   "id": "2ea1b023",
   "metadata": {},
   "outputs": [
    {
     "name": "stdout",
     "output_type": "stream",
     "text": [
      "FEEDS NULL ITEMS\n",
      "Unnamed: 0    0\n",
      "name          0\n",
      "feedId        0\n",
      "dtype: int64\n",
      "\n",
      "USERS NULL ITEMS\n",
      "Unnamed: 0     0\n",
      "created_at     0\n",
      "class          0\n",
      "coordinates    0\n",
      "userId         0\n",
      "dtype: int64\n",
      "\n",
      "VIDEOS NULL ITEMS\n",
      "Unnamed: 0      0\n",
      "attribute_id    0\n",
      "music_id        0\n",
      "animation_id    0\n",
      "duration        0\n",
      "creator         0\n",
      "created_at      0\n",
      "num_shares      0\n",
      "game_id         0\n",
      "is_ar           0\n",
      "videoId         0\n",
      "dtype: int64\n",
      "\n",
      "WATCHED VIDEOS NULL ITEMS\n",
      "Unnamed: 0     0\n",
      "coordinates    0\n",
      "os             0\n",
      "duration       0\n",
      "videoId        0\n",
      "userId         0\n",
      "appVersion     0\n",
      "dateTime       0\n",
      "feedId         0\n",
      "dtype: int64\n"
     ]
    }
   ],
   "source": [
    "#Checking for null values\n",
    "print(\"FEEDS NULL ITEMS\")\n",
    "print(feeds.isnull().sum())\n",
    "\n",
    "print(\"\\nUSERS NULL ITEMS\")\n",
    "print(users.isnull().sum())\n",
    "\n",
    "print(\"\\nVIDEOS NULL ITEMS\")\n",
    "print(videos.isnull().sum())\n",
    "\n",
    "print(\"\\nWATCHED VIDEOS NULL ITEMS\")\n",
    "print(watchedVideo.isnull().sum())"
   ]
  },
  {
   "cell_type": "code",
   "execution_count": 4,
   "id": "0d134b2e",
   "metadata": {},
   "outputs": [
    {
     "name": "stdout",
     "output_type": "stream",
     "text": [
      "Android    25037\n",
      "iOS        24963\n",
      "Name: os, dtype: int64\n"
     ]
    },
    {
     "data": {
      "text/plain": [
       "<AxesSubplot:xlabel='OS'>"
      ]
     },
     "execution_count": 4,
     "metadata": {},
     "output_type": "execute_result"
    },
    {
     "data": {
      "image/png": "[encoded data removed]",
      "text/plain": [
       "<Figure size 432x288 with 1 Axes>"
      ]
     },
     "metadata": {},
     "output_type": "display_data"
    }
   ],
   "source": [
    "#Checking the proportion of Android vs iOS users\n",
    "print(watchedVideo['os'].value_counts())\n",
    "df = pd.DataFrame({'OS':['Android','iOS'], 'val':[25037, 24963]})\n",
    "df.plot.bar(x='OS', y='val', rot=0)\n",
    "\n"
   ]
  },
  {
   "cell_type": "code",
   "execution_count": 6,
   "id": "5ec6bb0e",
   "metadata": {},
   "outputs": [
    {
     "name": "stdout",
     "output_type": "stream",
     "text": [
      "most used app version\n",
      "2.1.2    5134\n",
      "3.0.0    5086\n",
      "2.2.3    5070\n",
      "2.1.0    4978\n",
      "2.2.4    4967\n",
      "2.2.2    4965\n",
      "3.0.1    4961\n",
      "2.2.1    4960\n",
      "2.1.1    4951\n",
      "2.2.0    4928\n",
      "Name: appVersion, dtype: int64\n",
      "\n",
      "\n",
      "finding what music used the most\n",
      "c3721b09-6896-465a-8e13-4d73efd06874    550\n",
      "b5b679a5-e769-4d95-82a6-f75e439b1ef9    548\n",
      "19e4db13-d854-4913-a8ca-3612ee1a6071    512\n",
      "8ff50feb-3b5d-4dd0-84b0-8409753bd166    509\n",
      "da2fc9b0-32d5-4a1b-8b40-2706eb133bf0    491\n",
      "3de11516-8627-47c3-98ab-265b429cac91    488\n",
      "d53234f4-1efb-4299-97c1-11658118cba5    481\n",
      "4ee0de5b-e27f-4d73-a3c6-52cf26e36c54    475\n",
      "e2bf5d12-edc2-47cb-b23f-1f4f7c1a2292    474\n",
      "1f80192e-3bff-41b8-b272-7062b9d7b6de    472\n",
      "Name: music_id, dtype: int64\n",
      "\n",
      "\n",
      "most active creators\n",
      "ddfeab0f-274a-4cab-86c2-873cbd8e485e    12\n",
      "b86d3272-a6a0-449c-8d04-caa5fbd9260a    12\n",
      "fe96fb46-1629-4e5c-8a4c-d244146726c4    12\n",
      "9e75f24f-cce5-404c-afd7-80abf6bee06c    11\n",
      "ce66818b-eedd-41e4-9178-72b8f9f0199e    11\n",
      "                                        ..\n",
      "65144b4e-dffa-4ec9-a585-cf25eb9def3e     1\n",
      "f05bd1cb-ec8c-4a16-8c4a-0fe69d4c29f6     1\n",
      "3ea47f43-bdb4-4817-b640-610362b9809a     1\n",
      "9efb97d9-83c2-40fa-a649-3ed16d0cd576     1\n",
      "fc4fa6b9-27e8-4a1d-a5b9-9cbdb4037d5a     1\n",
      "Name: creator, Length: 992, dtype: int64\n",
      "\n",
      "\n",
      "feeds have the most videos\n",
      "fashion    5116\n",
      "travel     5104\n",
      "sports     5017\n",
      "dance      5012\n",
      "games      4989\n",
      "music      4978\n",
      "jokes      4976\n",
      "fun        4974\n",
      "love       4939\n",
      "beaches    4895\n",
      "Name: name, dtype: int64\n",
      "\n",
      "\n"
     ]
    }
   ],
   "source": [
    "# Creating new data frame to connect user id across watchedVideo and users\n",
    "# Connecting feedID between watched video and feeds\n",
    "# Connecting video ID from watched video with creator id from videos\n",
    "\n",
    "user_watchedVid = pd.DataFrame()\n",
    "user_watchedVid = pd.merge(watchedVideo,users, how='inner', on='userId')\n",
    "#print(new_df.head())\n",
    "user_watchedVid.groupby('class', as_index=False)['duration'].mean()\n",
    "\n",
    "vid_df = pd.DataFrame()\n",
    "vid_df = pd.merge(user_watchedVid,videos, how='inner', on='videoId')\n",
    "#print(vid_df.head())\n",
    "print(\"most used app version\")\n",
    "print(vid_df['appVersion'].value_counts())\n",
    "print(\"\\n\")\n",
    "#vid_df.groupby('videoId', as_index=False)['attribute_id'].mean()\n",
    " \n",
    "        \n",
    "print(\"finding what music used the most\")\n",
    "print(videos['music_id'].value_counts())\n",
    "print(\"\\n\")\n",
    "\n",
    "print(\"most active creators\")\n",
    "print(videos['creator'].value_counts())\n",
    "print(\"\\n\")\n",
    "\n",
    "#videos.plot.bar(x='music_id', y='num_shares', rot=0)\n",
    "#plt.show()\n",
    "\n",
    "\n",
    "print(\"feeds have the most videos\")\n",
    "feed_watchedVid = pd.merge(watchedVideo['feedId'],feeds, how='inner', on='feedId')\n",
    "\n",
    "print(feed_watchedVid['name'].value_counts())\n",
    "print(\"\\n\")\n"
   ]
  },
  {
   "cell_type": "markdown",
   "id": "b83f64a8",
   "metadata": {},
   "source": [
    "<p>\n",
    "<span style=\"color:blue\">\n",
    "The most active creators ids are listed as such: \n",
    "<li>ddfeab0f-274a-4cab-86c2-873cbd8e485e  </li>   \n",
    "<li>b86d3272-a6a0-449c-8d04-caa5fbd9260a  </li> \n",
    "<li>fe96fb46-1629-4e5c-8a4c-d244146726c4   </li>  \n",
    " <li>9e75f24f-cce5-404c-afd7-80abf6bee06c     </li>\n",
    " <li> ce66818b-eedd-41e4-9178-72b8f9f0199e  </li>\n",
    "   \n",
    "</span>\n",
    "</p>"
   ]
  },
  {
   "cell_type": "code",
   "execution_count": null,
   "id": "c19e8503",
   "metadata": {},
   "outputs": [],
   "source": []
  }
 ],
 "metadata": {
  "kernelspec": {
   "display_name": "introds",
   "language": "python",
   "name": "introds"
  },
  "language_info": {
   "codemirror_mode": {
    "name": "ipython",
    "version": 3
   },
   "file_extension": ".py",
   "mimetype": "text/x-python",
   "name": "python",
   "nbconvert_exporter": "python",
   "pygments_lexer": "ipython3",
   "version": "3.9.7"
  }
 },
 "nbformat": 4,
 "nbformat_minor": 5
}
